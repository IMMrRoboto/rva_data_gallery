{
 "cells": [
  {
   "cell_type": "markdown",
   "metadata": {},
   "source": [
    "## This notebook imports the budget CSV, turns it into a tree (networkx directed graph), and exports it as a json file to be used by a D3 frontend."
   ]
  },
  {
   "cell_type": "code",
   "execution_count": 1,
   "metadata": {
    "collapsed": false
   },
   "outputs": [],
   "source": [
    "%matplotlib inline\n",
    "\n",
    "import matplotlib.pyplot as plt\n",
    "import networkx as nx\n",
    "import numpy as np\n",
    "import pandas as pd\n",
    "\n",
    "import sys\n",
    "sys.path.append('/home/connor/workspace/py_utils')\n",
    "import graph_helpers as gh"
   ]
  },
  {
   "cell_type": "code",
   "execution_count": 2,
   "metadata": {
    "collapsed": true
   },
   "outputs": [],
   "source": [
    "#https://data.richmondgov.com/Well-Managed-Government/City-Budget-General-Fund/7nru-hsrx\n",
    "df_b = pd.read_csv(\"City_Budget_-_General_Fund.csv\")"
   ]
  },
  {
   "cell_type": "code",
   "execution_count": 3,
   "metadata": {
    "collapsed": true
   },
   "outputs": [],
   "source": [
    "df_b_18 = df_b[(df_b.Period == 'FY18')]"
   ]
  },
  {
   "cell_type": "code",
   "execution_count": 5,
   "metadata": {
    "collapsed": false
   },
   "outputs": [],
   "source": [
    "G = nx.DiGraph()\n",
    "G.add_node(gh.setNewID(G),name='RVA_2018_Budget', type='root')"
   ]
  },
  {
   "cell_type": "code",
   "execution_count": 6,
   "metadata": {
    "collapsed": false
   },
   "outputs": [],
   "source": [
    "df_accounts = df_b_18[['Agency_Descr','Cost Center_Description','Account_Description', 'Service_Descr', 'Budget']]\\\n",
    "                .groupby(['Agency_Descr','Cost Center_Description', 'Service_Descr','Account_Description'])\\\n",
    "                .sum().reset_index().dropna().rename(columns={'Cost Center_Description': 'cost_center',\n",
    "                                                             'Agency_Descr': 'agency', 'Account_Description': 'account',\n",
    "                                                             'Service_Descr': 'service'})\n",
    "        \n",
    "df_services = df_accounts.groupby(['agency','cost_center', 'service'])\\\n",
    "                .sum().reset_index().dropna()\n",
    "\n",
    "df_costCenters = df_services.groupby(['agency','cost_center']).sum().reset_index().dropna()\n",
    "\n",
    "df_agencies = df_costCenters.groupby(['agency']).sum().reset_index().dropna()"
   ]
  },
  {
   "cell_type": "code",
   "execution_count": 7,
   "metadata": {
    "collapsed": false
   },
   "outputs": [],
   "source": [
    "#add agencies and link to root\n",
    "# root = gh.getNodeByName(G, 'RVA_2018_Budget')\n",
    "    \n",
    "for index, row in df_agencies.iterrows():\n",
    "    name = row.agency\n",
    "    newID = gh.setNewID(G)\n",
    "    G.add_node(newID, name=name, type='agency')\n",
    "    G.add_edge(1, newID)"
   ]
  },
  {
   "cell_type": "code",
   "execution_count": 8,
   "metadata": {
    "collapsed": false
   },
   "outputs": [],
   "source": [
    "#add cost centers and link to agency\n",
    "    \n",
    "for index, row in df_costCenters.iterrows():\n",
    "    name = row.cost_center\n",
    "    newID = gh.setNewID(G)\n",
    "    G.add_node(newID, name=name, type='cost_center')\n",
    "    parent = gh.getNodeByName(G, row.agency)\n",
    "    G.add_edge(parent, newID)"
   ]
  },
  {
   "cell_type": "code",
   "execution_count": 9,
   "metadata": {
    "collapsed": true
   },
   "outputs": [],
   "source": [
    "#add services and link to cost center, then add child accounts and link to service\n",
    "    \n",
    "for index, row in df_services.iterrows():\n",
    "    name = row.service\n",
    "    newID = gh.setNewID(G)\n",
    "    \n",
    "    G.add_node(newID,name=name, type='service')\n",
    "    \n",
    "    parent = gh.getNodeByName(G, row.cost_center)\n",
    "    \n",
    "    G.add_edge(parent, newID)\n",
    "    \n",
    "    df_children = df_accounts[(df_accounts.service == name) & (df_accounts.cost_center == row.cost_center)]\n",
    "    \n",
    "    for index, ch_row in df_children.iterrows():\n",
    "        ch_name = ch_row.account\n",
    "        ch_newID = gh.setNewID(G)\n",
    "        \n",
    "        G.add_node(ch_newID,name=ch_name, type='account', budget=ch_row.Budget)\n",
    "        \n",
    "        G.add_edge(newID, ch_newID)"
   ]
  },
  {
   "cell_type": "code",
   "execution_count": 10,
   "metadata": {
    "collapsed": true
   },
   "outputs": [],
   "source": [
    "nx.write_gpickle(G, \"budget_sunbirst_graph.p\")"
   ]
  },
  {
   "cell_type": "code",
   "execution_count": 13,
   "metadata": {
    "collapsed": true
   },
   "outputs": [],
   "source": [
    "import json\n",
    "\n",
    "from networkx.readwrite import json_graph"
   ]
  },
  {
   "cell_type": "code",
   "execution_count": 14,
   "metadata": {
    "collapsed": false
   },
   "outputs": [],
   "source": [
    "data = json_graph.tree_data(G,root=1)\n",
    "datastr = json.dumps(data)\n",
    "data = json.loads(datastr)"
   ]
  },
  {
   "cell_type": "code",
   "execution_count": 15,
   "metadata": {
    "collapsed": false
   },
   "outputs": [],
   "source": [
    "with open('local_flask/static/budget_sunbirst.json', 'w') as outfile:\n",
    "    json.dump(data, outfile)"
   ]
  },
  {
   "cell_type": "code",
   "execution_count": null,
   "metadata": {
    "collapsed": false
   },
   "outputs": [],
   "source": []
  },
  {
   "cell_type": "code",
   "execution_count": null,
   "metadata": {
    "collapsed": false
   },
   "outputs": [],
   "source": []
  },
  {
   "cell_type": "code",
   "execution_count": null,
   "metadata": {
    "collapsed": true
   },
   "outputs": [],
   "source": []
  },
  {
   "cell_type": "code",
   "execution_count": null,
   "metadata": {
    "collapsed": true
   },
   "outputs": [],
   "source": []
  },
  {
   "cell_type": "code",
   "execution_count": null,
   "metadata": {
    "collapsed": true
   },
   "outputs": [],
   "source": []
  }
 ],
 "metadata": {
  "kernelspec": {
   "display_name": "Python 3",
   "language": "python",
   "name": "python3"
  },
  "language_info": {
   "codemirror_mode": {
    "name": "ipython",
    "version": 3
   },
   "file_extension": ".py",
   "mimetype": "text/x-python",
   "name": "python",
   "nbconvert_exporter": "python",
   "pygments_lexer": "ipython3",
   "version": "3.6.0"
  }
 },
 "nbformat": 4,
 "nbformat_minor": 2
}
